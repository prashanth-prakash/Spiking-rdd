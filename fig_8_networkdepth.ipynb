{
 "cells": [
  {
   "cell_type": "markdown",
   "metadata": {},
   "source": [
    "## Figure 8. Comparing RDD for different network depths"
   ]
  },
  {
   "cell_type": "markdown",
   "metadata": {},
   "source": [
    "Imports"
   ]
  },
  {
   "cell_type": "code",
   "execution_count": 1,
   "metadata": {},
   "outputs": [
    {
     "name": "stdout",
     "output_type": "stream",
     "text": [
      "Populating the interactive namespace from numpy and matplotlib\n"
     ]
    }
   ],
   "source": [
    "%pylab inline\n",
    "pylab.rcParams['figure.figsize'] = (10, 6)\n",
    "\n",
    "#%matplotlib inline\n",
    "\n",
    "import matplotlib\n",
    "import numpy as np\n",
    "import numpy.linalg as la\n",
    "import matplotlib.pyplot as plt\n",
    "import numpy.random as rand\n",
    "import pandas as pd\n",
    "import seaborn as sns\n",
    "\n",
    "from lib.lif import LIF_Recurrent, ParamsLIF_Recurrent\n",
    "from lib.causal import causaleffect_maxv, causaleffect_maxv_linear, causaleffect_maxv_sp"
   ]
  },
  {
   "cell_type": "code",
   "execution_count": 2,
   "metadata": {
    "collapsed": true
   },
   "outputs": [],
   "source": [
    "#Angle between two vectors\n",
    "def alignment(a,b):\n",
    "    da = np.dot(a,a)\n",
    "    db = np.dot(b,b)\n",
    "    if da > 0 and db > 0:\n",
    "        return 180/np.pi*np.arccos(np.dot(a,b)/np.sqrt(da*db))\n",
    "    else:\n",
    "        return 360.\n",
    "    \n",
    "def mse(pred,true):\n",
    "    return np.mean((pred - true)**2)"
   ]
  },
  {
   "cell_type": "code",
   "execution_count": 3,
   "metadata": {},
   "outputs": [],
   "source": [
    "#Test LIF_Recurrent network\n",
    "nsims = 1\n",
    "\n",
    "cvals = [0.0, 0.7]\n",
    "pvals = np.logspace(-2, 0, 10)\n",
    "#c = 0.9\n",
    "n1 = 200\n",
    "n2 = 10\n",
    "tau_s = 0.020\n",
    "dt = 0.001\n",
    "t = 1   #In seconds\n",
    "sigma = 10\n",
    "x = 0\n",
    "#p = 0.1\n",
    "DeltaT = 10\n",
    "\n",
    "nC = len(cvals)\n",
    "nP = len(pvals)\n",
    "\n",
    "t_filter = np.linspace(0, 1, 1000)\n",
    "exp_filter = np.exp(-t_filter/tau_s)\n",
    "exp_filter = exp_filter/np.sum(exp_filter)\n",
    "ds = exp_filter[0]\n",
    "\n",
    "params = ParamsLIF_Recurrent(exp_filter, sigma = sigma,sigma1=0.1, n1 = n1, n2 = n2)\n",
    "lif = LIF_Recurrent(params, t = t)"
   ]
  },
  {
   "cell_type": "code",
   "execution_count": 4,
   "metadata": {},
   "outputs": [
    {
     "data": {
      "text/plain": [
       "<lib.lif.ParamsLIF_Recurrent at 0x7f18ec05e750>"
      ]
     },
     "execution_count": 4,
     "metadata": {},
     "output_type": "execute_result"
    }
   ],
   "source": [
    "params"
   ]
  },
  {
   "cell_type": "markdown",
   "metadata": {},
   "source": [
    "## Test 2 hidden layer network"
   ]
  },
  {
   "cell_type": "code",
   "execution_count": 5,
   "metadata": {
    "scrolled": true
   },
   "outputs": [
    {
     "name": "stdout",
     "output_type": "stream",
     "text": [
      "('size of output:', array([ 0.,  0.,  0.,  1.,  0.,  0.,  0.,  0.,  0.,  0.]))\n",
      "(784, 1000)\n",
      "(210,)\n",
      "('e shape:', (10, 1))\n",
      "('sh shape:', (10,))\n",
      "('dLdu shape:', (10, 10))\n",
      "('delta shape:', (10, 200))\n",
      "('size W:', (200, 784))\n",
      "(200,)\n",
      "('dLdw shape:', (200, 784))\n"
     ]
    },
    {
     "ename": "ValueError",
     "evalue": "operands could not be broadcast together with shapes (10,200) (10,10) ",
     "output_type": "error",
     "traceback": [
      "\u001b[0;31m---------------------------------------------------------------------------\u001b[0m",
      "\u001b[0;31mValueError\u001b[0m                                Traceback (most recent call last)",
      "\u001b[0;32m<ipython-input-5-979926fd26df>\u001b[0m in \u001b[0;36m<module>\u001b[0;34m()\u001b[0m\n\u001b[0;32m----> 1\u001b[0;31m \u001b[0minp\u001b[0m\u001b[0;34m,\u001b[0m\u001b[0mv\u001b[0m\u001b[0;34m,\u001b[0m \u001b[0mh\u001b[0m\u001b[0;34m,\u001b[0m \u001b[0mu\u001b[0m\u001b[0;34m,\u001b[0m \u001b[0msh\u001b[0m \u001b[0;34m=\u001b[0m \u001b[0mlif\u001b[0m\u001b[0;34m.\u001b[0m\u001b[0msimulate\u001b[0m\u001b[0;34m(\u001b[0m\u001b[0;34m)\u001b[0m\u001b[0;34m\u001b[0m\u001b[0m\n\u001b[0m\u001b[1;32m      2\u001b[0m \u001b[0;31m#bp,hidd=lif.backprop()\u001b[0m\u001b[0;34m\u001b[0m\u001b[0;34m\u001b[0m\u001b[0m\n\u001b[1;32m      3\u001b[0m \u001b[0;31m# results=lif.simulate()\u001b[0m\u001b[0;34m\u001b[0m\u001b[0;34m\u001b[0m\u001b[0m\n\u001b[1;32m      4\u001b[0m \u001b[0;31m#np.nonzero(results[3][0,:])[0].shape\u001b[0m\u001b[0;34m\u001b[0m\u001b[0;34m\u001b[0m\u001b[0m\n",
      "\u001b[0;32m/home/prashanth/rdd/lib/lif.py\u001b[0m in \u001b[0;36msimulate\u001b[0;34m(self, deltaT)\u001b[0m\n\u001b[1;32m    707\u001b[0m \u001b[0;34m\u001b[0m\u001b[0m\n\u001b[1;32m    708\u001b[0m             \u001b[0mself\u001b[0m\u001b[0;34m.\u001b[0m\u001b[0mvt\u001b[0m \u001b[0;34m=\u001b[0m \u001b[0mvt\u001b[0m\u001b[0;34m\u001b[0m\u001b[0m\n\u001b[0;32m--> 709\u001b[0;31m             \u001b[0mself\u001b[0m\u001b[0;34m.\u001b[0m\u001b[0mbackprop\u001b[0m\u001b[0;34m(\u001b[0m\u001b[0mh\u001b[0m\u001b[0;34m,\u001b[0m\u001b[0mepoch\u001b[0m\u001b[0;34m=\u001b[0m\u001b[0;36m1\u001b[0m\u001b[0;34m)\u001b[0m\u001b[0;34m\u001b[0m\u001b[0m\n\u001b[0m\u001b[1;32m    710\u001b[0m             \u001b[0;31m#self.sh = sh\u001b[0m\u001b[0;34m\u001b[0m\u001b[0;34m\u001b[0m\u001b[0m\n\u001b[1;32m    711\u001b[0m \u001b[0;34m\u001b[0m\u001b[0m\n",
      "\u001b[0;32m/home/prashanth/rdd/lib/lif.py\u001b[0m in \u001b[0;36mbackprop\u001b[0;34m(self, h, epoch)\u001b[0m\n\u001b[1;32m    749\u001b[0m             \u001b[0;32mprint\u001b[0m\u001b[0;34m(\u001b[0m\u001b[0;34m\"dLdw shape:\"\u001b[0m\u001b[0;34m,\u001b[0m\u001b[0mdLdw\u001b[0m\u001b[0;34m.\u001b[0m\u001b[0mshape\u001b[0m\u001b[0;34m)\u001b[0m\u001b[0;34m\u001b[0m\u001b[0m\n\u001b[1;32m    750\u001b[0m             \u001b[0mself\u001b[0m\u001b[0;34m.\u001b[0m\u001b[0mW\u001b[0m\u001b[0;34m=\u001b[0m\u001b[0mself\u001b[0m\u001b[0;34m.\u001b[0m\u001b[0mW\u001b[0m\u001b[0;34m-\u001b[0m\u001b[0mself\u001b[0m\u001b[0;34m.\u001b[0m\u001b[0mparams\u001b[0m\u001b[0;34m.\u001b[0m\u001b[0mlearning_rate\u001b[0m\u001b[0;34m*\u001b[0m\u001b[0mdLdw\u001b[0m\u001b[0;34m\u001b[0m\u001b[0m\n\u001b[0;32m--> 751\u001b[0;31m             \u001b[0mself\u001b[0m\u001b[0;34m.\u001b[0m\u001b[0mU\u001b[0m\u001b[0;34m[\u001b[0m\u001b[0mself\u001b[0m\u001b[0;34m.\u001b[0m\u001b[0mparams\u001b[0m\u001b[0;34m.\u001b[0m\u001b[0mn1\u001b[0m\u001b[0;34m:\u001b[0m\u001b[0;34m,\u001b[0m\u001b[0;36m0\u001b[0m\u001b[0;34m:\u001b[0m\u001b[0mself\u001b[0m\u001b[0;34m.\u001b[0m\u001b[0mparams\u001b[0m\u001b[0;34m.\u001b[0m\u001b[0mn1\u001b[0m\u001b[0;34m]\u001b[0m\u001b[0;34m=\u001b[0m\u001b[0mself\u001b[0m\u001b[0;34m.\u001b[0m\u001b[0mU\u001b[0m\u001b[0;34m[\u001b[0m\u001b[0mself\u001b[0m\u001b[0;34m.\u001b[0m\u001b[0mparams\u001b[0m\u001b[0;34m.\u001b[0m\u001b[0mn1\u001b[0m\u001b[0;34m:\u001b[0m\u001b[0;34m,\u001b[0m\u001b[0;36m0\u001b[0m\u001b[0;34m:\u001b[0m\u001b[0mself\u001b[0m\u001b[0;34m.\u001b[0m\u001b[0mparams\u001b[0m\u001b[0;34m.\u001b[0m\u001b[0mn1\u001b[0m\u001b[0;34m]\u001b[0m\u001b[0;34m-\u001b[0m\u001b[0mself\u001b[0m\u001b[0;34m.\u001b[0m\u001b[0mparams\u001b[0m\u001b[0;34m.\u001b[0m\u001b[0mlearning_rate\u001b[0m\u001b[0;34m*\u001b[0m\u001b[0mdLdu\u001b[0m\u001b[0;34m\u001b[0m\u001b[0m\n\u001b[0m\u001b[1;32m    752\u001b[0m \u001b[0;34m\u001b[0m\u001b[0m\n\u001b[1;32m    753\u001b[0m         \u001b[0;32mreturn\u001b[0m\u001b[0;34m\u001b[0m\u001b[0m\n",
      "\u001b[0;31mValueError\u001b[0m: operands could not be broadcast together with shapes (10,200) (10,10) "
     ]
    }
   ],
   "source": [
    "inp,v, h, u, sh = lif.simulate()\n",
    "#bp,hidd=lif.backprop()\n",
    "# results=lif.simulate()\n",
    "#np.nonzero(results[3][0,:])[0].shape"
   ]
  },
  {
   "cell_type": "code",
   "execution_count": null,
   "metadata": {
    "collapsed": true,
    "scrolled": true
   },
   "outputs": [],
   "source": [
    "# for i in range(784):\n",
    "#     plt.plot(x[i,:])\n",
    "#     plt.show()"
   ]
  },
  {
   "cell_type": "code",
   "execution_count": null,
   "metadata": {},
   "outputs": [],
   "source": [
    "sh.shape"
   ]
  },
  {
   "cell_type": "code",
   "execution_count": null,
   "metadata": {
    "collapsed": true
   },
   "outputs": [],
   "source": [
    "plt.imshow(inp[1,:,:])\n"
   ]
  },
  {
   "cell_type": "code",
   "execution_count": null,
   "metadata": {
    "collapsed": true
   },
   "outputs": [],
   "source": [
    "print('Firing rates:',np.sum(h[0], 1)/t)"
   ]
  },
  {
   "cell_type": "code",
   "execution_count": null,
   "metadata": {
    "collapsed": true
   },
   "outputs": [],
   "source": []
  },
  {
   "cell_type": "code",
   "execution_count": null,
   "metadata": {
    "collapsed": true,
    "scrolled": false
   },
   "outputs": [],
   "source": [
    "fig, axes = plt.subplots(3,1,figsize = (15, 15), sharex = True)\n",
    "axes[0].imshow(inp[0], aspect = 'auto', interpolation = 'nearest')\n",
    "axes[1].imshow(v[0], aspect = 'auto', interpolation = 'nearest')\n",
    "im2 = axes[2].imshow(h[0], aspect = 'auto', interpolation = 'nearest')\n",
    "axes[0].set_ylabel('voltage')\n",
    "axes[1].set_ylabel('spike raster')\n",
    "axes[2].set_ylabel('synaptic input')\n",
    "axes[2].set_xlabel('time bin')\n",
    "plt.colorbar(im2, ax = axes[2])"
   ]
  },
  {
   "cell_type": "code",
   "execution_count": null,
   "metadata": {
    "collapsed": true
   },
   "outputs": [],
   "source": [
    "v[0]"
   ]
  },
  {
   "cell_type": "code",
   "execution_count": null,
   "metadata": {
    "collapsed": true
   },
   "outputs": [],
   "source": [
    "v[0,-10::]"
   ]
  },
  {
   "cell_type": "markdown",
   "metadata": {},
   "source": [
    "## Causal effect estimation"
   ]
  },
  {
   "cell_type": "code",
   "execution_count": null,
   "metadata": {
    "collapsed": true
   },
   "outputs": [],
   "source": [
    "U = np.eye(n2)\n",
    "target = .02*np.ones((n2,1))\n",
    "target[0] = 0\n",
    "C_orig = lambda s: np.sum((np.dot(U, s) - target)**2,0)\n",
    "nsims = 50\n",
    "beta_rd_c = np.zeros((nC, nsims, nP, n1))\n",
    "beta_rd_c_linear = np.zeros((nC, nsims, nP, n1))\n",
    "beta_fd_c = np.zeros((nC, nsims, nP, n1))\n",
    "beta_fd_c_linear = np.zeros((nC, nsims, nP, n1))"
   ]
  },
  {
   "cell_type": "code",
   "execution_count": null,
   "metadata": {
    "collapsed": true
   },
   "outputs": [],
   "source": [
    "cvals"
   ]
  },
  {
   "cell_type": "code",
   "execution_count": null,
   "metadata": {
    "collapsed": true,
    "scrolled": true
   },
   "outputs": [],
   "source": [
    "#Compute causal effects\n",
    "for i,c in enumerate(cvals):\n",
    "    print(\"Running %d simulations with c=%s\"%(nsims, c))\n",
    "    params.c = c\n",
    "    lif.setup(params)\n",
    "    for j in range(nsims):\n",
    "        (inp,v, h, u, sh) = lif.simulate(DeltaT)\n",
    "        cost = C_orig(sh[n1:,:])\n",
    "        for k,p in enumerate(pvals):\n",
    "            #a = causaleffect_maxv(u[0:n1,:], cost, DeltaT, p, params)\n",
    "            #print(a.shape)\n",
    "            beta_rd_c[i,j,k,:] = causaleffect_maxv(u[0:n1,:], cost, DeltaT, p, params)\n",
    "            beta_rd_c_linear[i,j,k,:] = causaleffect_maxv_linear(u[0:n1,:], cost, DeltaT, p, params)\n",
    "        beta_fd_c[i,j,:] = causaleffect_maxv(u[0:n1,:], cost, DeltaT, 1, params)\n",
    "        beta_fd_c_linear[i,j,:] = causaleffect_maxv_linear(u[0:n1,:], cost, DeltaT, 1, params)"
   ]
  },
  {
   "cell_type": "code",
   "execution_count": null,
   "metadata": {
    "collapsed": true,
    "scrolled": false
   },
   "outputs": [],
   "source": [
    "#Plot the causal effects as a function of p\n",
    "for u in range(10):\n",
    "    #u = 1\n",
    "    fig,ax = plt.subplots(1,1,figsize=(4,4))\n",
    "    #for i in range(len(cvals)):\n",
    "    #    #sns.tsplot(data = beta_rd_c[i,:,:,u], ax = ax, ci='sd', time=pvals)#, color='C%d'%i)\n",
    "    #    sns.tsplot(data = beta_rd_c[i,:,:,u], ax = ax, time=pvals)#, color='C%d'%i)\n",
    "    #    #ax.plot(pvals, m_beta_rd_c[i,-1,u]*ones(pvals.shape), '-.', color='C%d'%i)\n",
    "    sns.tsplot(data = beta_rd_c[0,:,:,u], ax = ax, time=pvals, color='red')\n",
    "    sns.tsplot(data = beta_rd_c[1,:,:,u], ax = ax, time=pvals, color='blue')\n",
    "    #sns.tsplot(data = beta_rd_c_linear[0,:,:,u], ax = ax, time=pvals, color='red')\n",
    "    #sns.tsplot(data = beta_rd_c_linear[1,:,:,u], ax = ax, time=pvals, color='blue')\n",
    "    ax.set_xlabel('window size $p$');\n",
    "    ax.set_ylabel('average causal effect');\n",
    "    ax.set_title('Constant RD estimator');\n",
    "    #ax.plot(pvals, beta_sp_c[0,u]*ones(pvals.shape), color=(0,0,0));\n",
    "    #ax.set_ylim([3, 7])\n",
    "    #ax.set_ylim([5.4, 5.9])\n",
    "    #ax.set_xlim([0, 1])\n",
    "    ax.set_xscale('log')\n",
    "    #ax.set_yticks([2, 3, 4, 5, 6])\n",
    "    sns.despine(trim=True)\n",
    "    ax.legend([\"c = %.2f\"%i for i in cvals]);\n",
    "    #plt.savefig('./fig_2a.pdf')"
   ]
  },
  {
   "cell_type": "markdown",
   "metadata": {},
   "source": [
    "## A. Dependence on $N$ and $c$"
   ]
  },
  {
   "cell_type": "code",
   "execution_count": null,
   "metadata": {
    "collapsed": true
   },
   "outputs": [],
   "source": [
    "nsims = 5\n",
    "cvals = np.array([0.01, 0.25, 0.5, 0.75, 0.99])\n",
    "#cvals = np.array([0.01, 0.25, 0.5])\n",
    "#Nvals = np.logspace(1, 3, 6, dtype = int)\n",
    "Nvals = np.logspace(1, 3, 4, dtype = int)\n",
    "\n",
    "tau_s = 0.020\n",
    "dt = 0.001\n",
    "t = 100\n",
    "sigma = 10\n",
    "x = 0\n",
    "p = 0.1\n",
    "DeltaT = 20\n",
    "\n",
    "W = np.array([12, 9])\n",
    "\n",
    "params = ParamsLIF(sigma = sigma)\n",
    "lif = LIF(params, t = t)\n",
    "lif.W = W\n",
    "\n",
    "t_filter = np.linspace(0, 1, 2000)\n",
    "exp_filter = np.exp(-t_filter/tau_s)\n",
    "exp_filter = exp_filter/np.sum(exp_filter)\n",
    "ds = exp_filter[0]\n",
    "\n",
    "#c (correlation between noise inputs)\n",
    "beta_mse_rd_c = np.zeros((len(cvals), len(Nvals), nsims))\n",
    "beta_mse_fd_c = np.zeros((len(cvals), len(Nvals), nsims))\n",
    "beta_mse_bp_c = np.zeros((len(cvals), len(Nvals), nsims))\n",
    "\n",
    "beta_mse_rd_c_linear = np.zeros((len(cvals), len(Nvals), nsims))\n",
    "beta_mse_fd_c_linear = np.zeros((len(cvals), len(Nvals), nsims))"
   ]
  },
  {
   "cell_type": "code",
   "execution_count": null,
   "metadata": {
    "collapsed": true
   },
   "outputs": [],
   "source": [
    "#beta_sp_c = np.zeros((len(cvals), params.n))\n",
    "\n",
    "target = 0.1\n",
    "W = 10*np.ones(int(Nvals[-1]))\n",
    "#W = np.random.randn(int(Nvals[-1]))*5\n",
    "V = np.random.randn(int(Nvals[-1]))*5\n",
    "\n",
    "cost = lambda s,a: (np.dot(a[0:len(s)], s) - len(s)*target)**2\n",
    "\n",
    "#Cost function\n",
    "#B1 = 1\n",
    "#B2 = 2\n",
    "#x = .01\n",
    "#y = 0.1\n",
    "#z = 0\n",
    "\n",
    "#cost = lambda s1, s2: (B1*s1-x)**2 + (z+B2*s2 - B2*(B1*s1-y)**2)**2"
   ]
  },
  {
   "cell_type": "code",
   "execution_count": null,
   "metadata": {
    "collapsed": true
   },
   "outputs": [],
   "source": [
    "params.c = 0.99\n",
    "params.n = 10\n",
    "lif.setup(params)\n",
    "lif.W = W[0:10]\n",
    "(v, h, _, _, u) = lif.simulate(DeltaT)"
   ]
  },
  {
   "cell_type": "code",
   "execution_count": null,
   "metadata": {
    "collapsed": true
   },
   "outputs": [],
   "source": [
    "h.shape\n",
    "n_units = 10\n",
    "s = np.zeros(h.shape)\n",
    "for l in range(10):\n",
    "    s[l,:] = np.convolve(h[l,:], exp_filter)[0:h.shape[1]]\n",
    "cost_s = cost(s,V[0:n_units])"
   ]
  }
 ],
 "metadata": {
  "kernelspec": {
   "display_name": "Python 3",
   "language": "python",
   "name": "python3"
  },
  "language_info": {
   "codemirror_mode": {
    "name": "ipython",
    "version": 2
   },
   "file_extension": ".py",
   "mimetype": "text/x-python",
   "name": "python",
   "nbconvert_exporter": "python",
   "pygments_lexer": "ipython2",
   "version": "2.7.13"
  }
 },
 "nbformat": 4,
 "nbformat_minor": 2
}
